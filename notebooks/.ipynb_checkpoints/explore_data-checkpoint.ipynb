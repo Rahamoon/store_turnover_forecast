{
 "cells": [
  {
   "cell_type": "code",
   "execution_count": 1,
   "id": "cd25682f",
   "metadata": {},
   "outputs": [],
   "source": [
    "import pandas as pd\n",
    "import seaborn as sns\n",
    "import numpy as np\n",
    "import matplotlib.pyplot as plt\n",
    "import os\n",
    "from datetime import datetime\n",
    "sns.set_style('darkgrid')"
   ]
  },
  {
   "cell_type": "markdown",
   "id": "0f499db0",
   "metadata": {},
   "source": [
    "### Loading the data"
   ]
  },
  {
   "cell_type": "code",
   "execution_count": 2,
   "id": "1f1ceceb",
   "metadata": {},
   "outputs": [],
   "source": [
    "data_path = os.path.join('..', 'data')\n",
    "train_data = pd.read_csv(os.path.join(data_path, 'train.csv'))\n",
    "test_data = pd.read_csv(os.path.join(data_path, 'test.csv'))\n",
    "store_info = pd.read_csv(os.path.join(data_path, 'bu_feat.csv'))"
   ]
  },
  {
   "cell_type": "markdown",
   "id": "f811a2c7",
   "metadata": {},
   "source": [
    "### Checking the data"
   ]
  },
  {
   "cell_type": "markdown",
   "id": "0289000a",
   "metadata": {},
   "source": [
    "#### train_data"
   ]
  },
  {
   "cell_type": "code",
   "execution_count": 3,
   "id": "e349147a",
   "metadata": {},
   "outputs": [
    {
     "data": {
      "text/html": [
       "<div>\n",
       "<style scoped>\n",
       "    .dataframe tbody tr th:only-of-type {\n",
       "        vertical-align: middle;\n",
       "    }\n",
       "\n",
       "    .dataframe tbody tr th {\n",
       "        vertical-align: top;\n",
       "    }\n",
       "\n",
       "    .dataframe thead th {\n",
       "        text-align: right;\n",
       "    }\n",
       "</style>\n",
       "<table border=\"1\" class=\"dataframe\">\n",
       "  <thead>\n",
       "    <tr style=\"text-align: right;\">\n",
       "      <th></th>\n",
       "      <th>day_id</th>\n",
       "      <th>but_num_business_unit</th>\n",
       "      <th>dpt_num_department</th>\n",
       "      <th>turnover</th>\n",
       "    </tr>\n",
       "  </thead>\n",
       "  <tbody>\n",
       "    <tr>\n",
       "      <th>0</th>\n",
       "      <td>2017-09-30</td>\n",
       "      <td>64</td>\n",
       "      <td>127</td>\n",
       "      <td>580.308443</td>\n",
       "    </tr>\n",
       "    <tr>\n",
       "      <th>1</th>\n",
       "      <td>2017-09-30</td>\n",
       "      <td>119</td>\n",
       "      <td>127</td>\n",
       "      <td>1512.995918</td>\n",
       "    </tr>\n",
       "    <tr>\n",
       "      <th>2</th>\n",
       "      <td>2017-09-30</td>\n",
       "      <td>4</td>\n",
       "      <td>88</td>\n",
       "      <td>668.593556</td>\n",
       "    </tr>\n",
       "    <tr>\n",
       "      <th>3</th>\n",
       "      <td>2017-09-30</td>\n",
       "      <td>425</td>\n",
       "      <td>127</td>\n",
       "      <td>0.000000</td>\n",
       "    </tr>\n",
       "    <tr>\n",
       "      <th>4</th>\n",
       "      <td>2017-09-30</td>\n",
       "      <td>513</td>\n",
       "      <td>73</td>\n",
       "      <td>0.000000</td>\n",
       "    </tr>\n",
       "  </tbody>\n",
       "</table>\n",
       "</div>"
      ],
      "text/plain": [
       "       day_id  but_num_business_unit  dpt_num_department     turnover\n",
       "0  2017-09-30                     64                 127   580.308443\n",
       "1  2017-09-30                    119                 127  1512.995918\n",
       "2  2017-09-30                      4                  88   668.593556\n",
       "3  2017-09-30                    425                 127     0.000000\n",
       "4  2017-09-30                    513                  73     0.000000"
      ]
     },
     "execution_count": 3,
     "metadata": {},
     "output_type": "execute_result"
    }
   ],
   "source": [
    "train_data.head(5)"
   ]
  },
  {
   "cell_type": "code",
   "execution_count": 4,
   "id": "e8c72c2b",
   "metadata": {},
   "outputs": [
    {
     "name": "stdout",
     "output_type": "stream",
     "text": [
      "<class 'pandas.core.frame.DataFrame'>\n",
      "RangeIndex: 277719 entries, 0 to 277718\n",
      "Data columns (total 4 columns):\n",
      " #   Column                 Non-Null Count   Dtype  \n",
      "---  ------                 --------------   -----  \n",
      " 0   day_id                 277719 non-null  object \n",
      " 1   but_num_business_unit  277719 non-null  int64  \n",
      " 2   dpt_num_department     277719 non-null  int64  \n",
      " 3   turnover               277719 non-null  float64\n",
      "dtypes: float64(1), int64(2), object(1)\n",
      "memory usage: 8.5+ MB\n"
     ]
    }
   ],
   "source": [
    "train_data.info()"
   ]
  },
  {
   "cell_type": "markdown",
   "id": "b308736c",
   "metadata": {},
   "source": [
    "#### test_data"
   ]
  },
  {
   "cell_type": "code",
   "execution_count": 5,
   "id": "58f4d394",
   "metadata": {},
   "outputs": [
    {
     "data": {
      "text/html": [
       "<div>\n",
       "<style scoped>\n",
       "    .dataframe tbody tr th:only-of-type {\n",
       "        vertical-align: middle;\n",
       "    }\n",
       "\n",
       "    .dataframe tbody tr th {\n",
       "        vertical-align: top;\n",
       "    }\n",
       "\n",
       "    .dataframe thead th {\n",
       "        text-align: right;\n",
       "    }\n",
       "</style>\n",
       "<table border=\"1\" class=\"dataframe\">\n",
       "  <thead>\n",
       "    <tr style=\"text-align: right;\">\n",
       "      <th></th>\n",
       "      <th>day_id</th>\n",
       "      <th>but_num_business_unit</th>\n",
       "      <th>dpt_num_department</th>\n",
       "    </tr>\n",
       "  </thead>\n",
       "  <tbody>\n",
       "    <tr>\n",
       "      <th>0</th>\n",
       "      <td>2017-11-25</td>\n",
       "      <td>95</td>\n",
       "      <td>73</td>\n",
       "    </tr>\n",
       "    <tr>\n",
       "      <th>1</th>\n",
       "      <td>2017-11-25</td>\n",
       "      <td>4</td>\n",
       "      <td>117</td>\n",
       "    </tr>\n",
       "    <tr>\n",
       "      <th>2</th>\n",
       "      <td>2017-11-25</td>\n",
       "      <td>113</td>\n",
       "      <td>127</td>\n",
       "    </tr>\n",
       "    <tr>\n",
       "      <th>3</th>\n",
       "      <td>2017-11-25</td>\n",
       "      <td>93</td>\n",
       "      <td>117</td>\n",
       "    </tr>\n",
       "    <tr>\n",
       "      <th>4</th>\n",
       "      <td>2017-11-25</td>\n",
       "      <td>66</td>\n",
       "      <td>127</td>\n",
       "    </tr>\n",
       "  </tbody>\n",
       "</table>\n",
       "</div>"
      ],
      "text/plain": [
       "       day_id  but_num_business_unit  dpt_num_department\n",
       "0  2017-11-25                     95                  73\n",
       "1  2017-11-25                      4                 117\n",
       "2  2017-11-25                    113                 127\n",
       "3  2017-11-25                     93                 117\n",
       "4  2017-11-25                     66                 127"
      ]
     },
     "execution_count": 5,
     "metadata": {},
     "output_type": "execute_result"
    }
   ],
   "source": [
    "test_data.head(5)"
   ]
  },
  {
   "cell_type": "code",
   "execution_count": 6,
   "id": "7d7e09ea",
   "metadata": {},
   "outputs": [
    {
     "name": "stdout",
     "output_type": "stream",
     "text": [
      "<class 'pandas.core.frame.DataFrame'>\n",
      "RangeIndex: 10136 entries, 0 to 10135\n",
      "Data columns (total 3 columns):\n",
      " #   Column                 Non-Null Count  Dtype \n",
      "---  ------                 --------------  ----- \n",
      " 0   day_id                 10136 non-null  object\n",
      " 1   but_num_business_unit  10136 non-null  int64 \n",
      " 2   dpt_num_department     10136 non-null  int64 \n",
      "dtypes: int64(2), object(1)\n",
      "memory usage: 237.7+ KB\n"
     ]
    }
   ],
   "source": [
    "test_data.info()"
   ]
  },
  {
   "cell_type": "markdown",
   "id": "aa4bb6b5",
   "metadata": {},
   "source": [
    "#### bu_feat"
   ]
  },
  {
   "cell_type": "code",
   "execution_count": 7,
   "id": "e2063121",
   "metadata": {},
   "outputs": [
    {
     "data": {
      "text/html": [
       "<div>\n",
       "<style scoped>\n",
       "    .dataframe tbody tr th:only-of-type {\n",
       "        vertical-align: middle;\n",
       "    }\n",
       "\n",
       "    .dataframe tbody tr th {\n",
       "        vertical-align: top;\n",
       "    }\n",
       "\n",
       "    .dataframe thead th {\n",
       "        text-align: right;\n",
       "    }\n",
       "</style>\n",
       "<table border=\"1\" class=\"dataframe\">\n",
       "  <thead>\n",
       "    <tr style=\"text-align: right;\">\n",
       "      <th></th>\n",
       "      <th>but_num_business_unit</th>\n",
       "      <th>but_postcode</th>\n",
       "      <th>but_latitude</th>\n",
       "      <th>but_longitude</th>\n",
       "      <th>but_region_idr_region</th>\n",
       "      <th>zod_idr_zone_dgr</th>\n",
       "    </tr>\n",
       "  </thead>\n",
       "  <tbody>\n",
       "    <tr>\n",
       "      <th>0</th>\n",
       "      <td>1609</td>\n",
       "      <td>80100</td>\n",
       "      <td>50.096306</td>\n",
       "      <td>1.867220</td>\n",
       "      <td>69</td>\n",
       "      <td>4</td>\n",
       "    </tr>\n",
       "    <tr>\n",
       "      <th>1</th>\n",
       "      <td>1995</td>\n",
       "      <td>95700</td>\n",
       "      <td>48.991087</td>\n",
       "      <td>2.520903</td>\n",
       "      <td>3</td>\n",
       "      <td>6</td>\n",
       "    </tr>\n",
       "    <tr>\n",
       "      <th>2</th>\n",
       "      <td>1800</td>\n",
       "      <td>73210</td>\n",
       "      <td>45.552933</td>\n",
       "      <td>6.644736</td>\n",
       "      <td>51</td>\n",
       "      <td>4</td>\n",
       "    </tr>\n",
       "    <tr>\n",
       "      <th>3</th>\n",
       "      <td>238</td>\n",
       "      <td>47550</td>\n",
       "      <td>44.175370</td>\n",
       "      <td>0.638869</td>\n",
       "      <td>134</td>\n",
       "      <td>10</td>\n",
       "    </tr>\n",
       "    <tr>\n",
       "      <th>4</th>\n",
       "      <td>201</td>\n",
       "      <td>13546</td>\n",
       "      <td>43.508418</td>\n",
       "      <td>5.406423</td>\n",
       "      <td>71</td>\n",
       "      <td>10</td>\n",
       "    </tr>\n",
       "  </tbody>\n",
       "</table>\n",
       "</div>"
      ],
      "text/plain": [
       "   but_num_business_unit  but_postcode  but_latitude  but_longitude  \\\n",
       "0                   1609         80100     50.096306       1.867220   \n",
       "1                   1995         95700     48.991087       2.520903   \n",
       "2                   1800         73210     45.552933       6.644736   \n",
       "3                    238         47550     44.175370       0.638869   \n",
       "4                    201         13546     43.508418       5.406423   \n",
       "\n",
       "   but_region_idr_region  zod_idr_zone_dgr  \n",
       "0                     69                 4  \n",
       "1                      3                 6  \n",
       "2                     51                 4  \n",
       "3                    134                10  \n",
       "4                     71                10  "
      ]
     },
     "execution_count": 7,
     "metadata": {},
     "output_type": "execute_result"
    }
   ],
   "source": [
    "store_info.head(5)"
   ]
  },
  {
   "cell_type": "code",
   "execution_count": 8,
   "id": "79baa0a7",
   "metadata": {},
   "outputs": [
    {
     "name": "stdout",
     "output_type": "stream",
     "text": [
      "<class 'pandas.core.frame.DataFrame'>\n",
      "RangeIndex: 326 entries, 0 to 325\n",
      "Data columns (total 6 columns):\n",
      " #   Column                 Non-Null Count  Dtype  \n",
      "---  ------                 --------------  -----  \n",
      " 0   but_num_business_unit  326 non-null    int64  \n",
      " 1   but_postcode           326 non-null    int64  \n",
      " 2   but_latitude           326 non-null    float64\n",
      " 3   but_longitude          326 non-null    float64\n",
      " 4   but_region_idr_region  326 non-null    int64  \n",
      " 5   zod_idr_zone_dgr       326 non-null    int64  \n",
      "dtypes: float64(2), int64(4)\n",
      "memory usage: 15.4 KB\n"
     ]
    }
   ],
   "source": [
    "store_info.info()"
   ]
  },
  {
   "cell_type": "markdown",
   "id": "1bbbc6cd",
   "metadata": {},
   "source": [
    "#### data timeline"
   ]
  },
  {
   "cell_type": "code",
   "execution_count": 9,
   "id": "bd5b5527",
   "metadata": {},
   "outputs": [],
   "source": [
    "train_data['date_time'] =  pd.to_datetime(train_data['day_id'], format='%Y-%m-%d')\n",
    "test_data['date_time'] =  pd.to_datetime(test_data['day_id'], format='%Y-%m-%d')"
   ]
  },
  {
   "cell_type": "code",
   "execution_count": 10,
   "id": "d61d5fad",
   "metadata": {},
   "outputs": [
    {
     "name": "stdout",
     "output_type": "stream",
     "text": [
      "train_data: start=2012-12-29 00:00:00, end=2017-09-30 00:00:00\n",
      "test_data: start=2017-10-07 00:00:00, end=2017-11-25 00:00:00\n"
     ]
    }
   ],
   "source": [
    "print(f\"train_data: start={train_data['date_time'].min()}, end={train_data['date_time'].max()}\")\n",
    "print(f\"test_data: start={test_data['date_time'].min()}, end={test_data['date_time'].max()}\")"
   ]
  },
  {
   "cell_type": "markdown",
   "id": "7de2afa2",
   "metadata": {},
   "source": [
    "## Preliminary questions & EDA"
   ]
  },
  {
   "cell_type": "markdown",
   "id": "1e10c4c2",
   "metadata": {},
   "source": [
    "### a. Which department made the highest turnover in 2016?"
   ]
  },
  {
   "cell_type": "code",
   "execution_count": 11,
   "id": "d150d5d8",
   "metadata": {},
   "outputs": [],
   "source": [
    "train_data_2016 = train_data.loc[train_data['date_time'].map(lambda x:x.year)==2016]"
   ]
  },
  {
   "cell_type": "code",
   "execution_count": 12,
   "id": "bf864f4b",
   "metadata": {},
   "outputs": [
    {
     "data": {
      "text/plain": [
       "<AxesSubplot:xlabel='dpt_num_department', ylabel='turnover'>"
      ]
     },
     "execution_count": 12,
     "metadata": {},
     "output_type": "execute_result"
    },
    {
     "data": {
      "image/png": "[encoded data removed]",
      "text/plain": [
       "<Figure size 1400x800 with 1 Axes>"
      ]
     },
     "metadata": {},
     "output_type": "display_data"
    }
   ],
   "source": [
    "plt.figure(figsize=(14,8))\n",
    "sns.barplot(x='dpt_num_department', y='turnover', estimator=np.sum, data=train_data_2016)"
   ]
  },
  {
   "cell_type": "markdown",
   "id": "532d6802",
   "metadata": {},
   "source": [
    "### b. What are the top 5 week numbers (1 to 53) for department 88 in 2015 in terms of turnover over all stores??"
   ]
  },
  {
   "cell_type": "code",
   "execution_count": 13,
   "id": "134225d3",
   "metadata": {},
   "outputs": [],
   "source": [
    "train_data_2015_dpt88 = train_data.loc[(train_data['date_time'].map(lambda x:x.year)==2015) & (train_data['dpt_num_department']==88)]\n",
    "# add week of the day column:\n",
    "train_data_2015_dpt88 = train_data_2015_dpt88.assign(week=train_data_2015_dpt88['date_time'].apply(lambda x: x.weekofyear).values)"
   ]
  },
  {
   "cell_type": "code",
   "execution_count": 14,
   "id": "74b94eba",
   "metadata": {},
   "outputs": [],
   "source": [
    "weekly_turnover = train_data_2015_dpt88.groupby('week').turnover.sum()"
   ]
  },
  {
   "cell_type": "code",
   "execution_count": 15,
   "id": "a1a3a0e6",
   "metadata": {},
   "outputs": [
    {
     "name": "stdout",
     "output_type": "stream",
     "text": [
      "Top 5 weeks:\n"
     ]
    },
    {
     "data": {
      "text/html": [
       "<div>\n",
       "<style scoped>\n",
       "    .dataframe tbody tr th:only-of-type {\n",
       "        vertical-align: middle;\n",
       "    }\n",
       "\n",
       "    .dataframe tbody tr th {\n",
       "        vertical-align: top;\n",
       "    }\n",
       "\n",
       "    .dataframe thead th {\n",
       "        text-align: right;\n",
       "    }\n",
       "</style>\n",
       "<table border=\"1\" class=\"dataframe\">\n",
       "  <thead>\n",
       "    <tr style=\"text-align: right;\">\n",
       "      <th></th>\n",
       "      <th>turnover</th>\n",
       "    </tr>\n",
       "    <tr>\n",
       "      <th>week</th>\n",
       "      <th></th>\n",
       "    </tr>\n",
       "  </thead>\n",
       "  <tbody>\n",
       "    <tr>\n",
       "      <th>27</th>\n",
       "      <td>141679.864768</td>\n",
       "    </tr>\n",
       "    <tr>\n",
       "      <th>37</th>\n",
       "      <td>139674.400588</td>\n",
       "    </tr>\n",
       "    <tr>\n",
       "      <th>36</th>\n",
       "      <td>137825.642436</td>\n",
       "    </tr>\n",
       "    <tr>\n",
       "      <th>38</th>\n",
       "      <td>137232.460861</td>\n",
       "    </tr>\n",
       "    <tr>\n",
       "      <th>28</th>\n",
       "      <td>125835.541415</td>\n",
       "    </tr>\n",
       "  </tbody>\n",
       "</table>\n",
       "</div>"
      ],
      "text/plain": [
       "           turnover\n",
       "week               \n",
       "27    141679.864768\n",
       "37    139674.400588\n",
       "36    137825.642436\n",
       "38    137232.460861\n",
       "28    125835.541415"
      ]
     },
     "execution_count": 15,
     "metadata": {},
     "output_type": "execute_result"
    }
   ],
   "source": [
    "best_weeks = weekly_turnover.sort_values(ascending=False)[:5]\n",
    "print(f\"Top 5 weeks:\")\n",
    "best_weeks.to_frame()"
   ]
  },
  {
   "cell_type": "code",
   "execution_count": 16,
   "id": "2a3f66b7",
   "metadata": {},
   "outputs": [
    {
     "data": {
      "text/plain": [
       "<AxesSubplot:xlabel='week'>"
      ]
     },
     "execution_count": 16,
     "metadata": {},
     "output_type": "execute_result"
    },
    {
     "data": {
      "image/png": "[encoded data removed]",
      "text/plain": [
       "<Figure size 1400x800 with 1 Axes>"
      ]
     },
     "metadata": {},
     "output_type": "display_data"
    }
   ],
   "source": [
    "plt.figure(figsize=(14,8))\n",
    "clrs = ['red' if (x in best_weeks.index) else 'dodgerblue' for x in weekly_turnover.index]\n",
    "sns.barplot(x=weekly_turnover.index, y=weekly_turnover.values, palette=clrs)"
   ]
  },
  {
   "cell_type": "markdown",
   "id": "b6bf6df4",
   "metadata": {},
   "source": [
    "### c. What was the top performer store in 2014?"
   ]
  },
  {
   "cell_type": "code",
   "execution_count": 17,
   "id": "8ae2b0c0",
   "metadata": {},
   "outputs": [],
   "source": [
    "train_data_2014 = train_data.loc[train_data['date_time'].map(lambda x:x.year)==2014]"
   ]
  },
  {
   "cell_type": "code",
   "execution_count": 18,
   "id": "372ce21e",
   "metadata": {},
   "outputs": [
    {
     "name": "stdout",
     "output_type": "stream",
     "text": [
      "The top perfomer store in 2014 was but_num=121 with a turnover of 327806.36\n"
     ]
    }
   ],
   "source": [
    "top_performers = train_data_2014.groupby('but_num_business_unit').turnover.sum().sort_values(ascending=False)\n",
    "print(f\"The top perfomer store in 2014 was but_num={top_performers.index[0]} with a turnover of {top_performers.iloc[0]:.2f}\")"
   ]
  },
  {
   "cell_type": "markdown",
   "id": "ce4631e9",
   "metadata": {},
   "source": [
    "### d. Based on sales can you guess what kind of sport represents department 73?"
   ]
  },
  {
   "cell_type": "code",
   "execution_count": 19,
   "id": "f4d2e5ab",
   "metadata": {},
   "outputs": [],
   "source": [
    "train_data_dpt73 = train_data.loc[train_data['dpt_num_department']==73][['date_time', 'turnover']]\n",
    "\n",
    "train_data_dpt73_monthly = train_data_dpt73.resample('M', on='date_time').sum()"
   ]
  },
  {
   "cell_type": "code",
   "execution_count": 20,
   "id": "059cb71f",
   "metadata": {},
   "outputs": [
    {
     "data": {
      "image/png": "[encoded data removed]",
      "text/plain": [
       "<Figure size 1500x800 with 1 Axes>"
      ]
     },
     "metadata": {},
     "output_type": "display_data"
    }
   ],
   "source": [
    "plt.figure(figsize=(15,8))\n",
    "           \n",
    "sns.barplot(x=train_data_dpt73_monthly.index.strftime('%m-%Y').values, \n",
    "            y=train_data_dpt73_monthly.turnover.values,\n",
    "            color='dodgerblue')\n",
    "ticks = plt.xticks(rotation=45)"
   ]
  },
  {
   "cell_type": "markdown",
   "id": "fddedac8",
   "metadata": {},
   "source": [
    "#### Based on monthly total turnovers, sales tend to increase during summer, peak in july, and slow down during winter. \n",
    "#### Therefore departement 73 likely represents summer sports (i.e swimming equipements)\n"
   ]
  },
  {
   "cell_type": "markdown",
   "id": "99b170a0",
   "metadata": {},
   "source": [
    "### d. Based on sales can you guess what kind of sport represents department 117?"
   ]
  },
  {
   "cell_type": "code",
   "execution_count": 21,
   "id": "ba462e8b",
   "metadata": {},
   "outputs": [
    {
     "data": {
      "image/png": "[encoded data removed]",
      "text/plain": [
       "<Figure size 1500x800 with 1 Axes>"
      ]
     },
     "metadata": {},
     "output_type": "display_data"
    }
   ],
   "source": [
    "train_data_dpt73 = train_data.loc[train_data['dpt_num_department']==117][['date_time', 'turnover']]\n",
    "\n",
    "train_data_dpt73_monthly = train_data_dpt73.resample('M', on='date_time').sum()\n",
    "\n",
    "plt.figure(figsize=(15,8))\n",
    "           \n",
    "sns.barplot(x=train_data_dpt73_monthly.index.strftime('%m-%Y').values, \n",
    "            y=train_data_dpt73_monthly.turnover.values,\n",
    "            color='dodgerblue')\n",
    "ticks = plt.xticks(rotation=45)"
   ]
  },
  {
   "cell_type": "markdown",
   "id": "1c034b6c",
   "metadata": {},
   "source": [
    "#### Based on monthly total turnovers, sales are high around winter. \n",
    "#### Therefore departement 117 likely represents winter sports (i.e ski equipements)"
   ]
  },
  {
   "cell_type": "markdown",
   "id": "8dad47ea",
   "metadata": {},
   "source": [
    "## Correlation between columns"
   ]
  },
  {
   "cell_type": "code",
   "execution_count": 22,
   "id": "27451b46",
   "metadata": {},
   "outputs": [],
   "source": [
    "# add store info to train data\n",
    "df = train_data.merge(store_info, on='but_num_business_unit', how='left')"
   ]
  },
  {
   "cell_type": "code",
   "execution_count": 23,
   "id": "504f31e3",
   "metadata": {},
   "outputs": [
    {
     "data": {
      "text/html": [
       "<style type=\"text/css\">\n",
       "#T_a55dc_row0_col0, #T_a55dc_row1_col1, #T_a55dc_row2_col2, #T_a55dc_row3_col3, #T_a55dc_row4_col4, #T_a55dc_row5_col5, #T_a55dc_row6_col6, #T_a55dc_row7_col7, #T_a55dc_row8_col8 {\n",
       "  background-color: #b40426;\n",
       "  color: #f1f1f1;\n",
       "}\n",
       "#T_a55dc_row0_col1, #T_a55dc_row4_col1, #T_a55dc_row4_col8, #T_a55dc_row7_col1 {\n",
       "  background-color: #3c4ec2;\n",
       "  color: #f1f1f1;\n",
       "}\n",
       "#T_a55dc_row0_col2, #T_a55dc_row2_col0, #T_a55dc_row3_col1, #T_a55dc_row3_col8, #T_a55dc_row4_col5, #T_a55dc_row4_col6, #T_a55dc_row4_col7, #T_a55dc_row5_col1, #T_a55dc_row5_col4, #T_a55dc_row6_col1, #T_a55dc_row7_col3, #T_a55dc_row7_col4, #T_a55dc_row8_col1 {\n",
       "  background-color: #3b4cc0;\n",
       "  color: #f1f1f1;\n",
       "}\n",
       "#T_a55dc_row0_col3 {\n",
       "  background-color: #4c66d6;\n",
       "  color: #f1f1f1;\n",
       "}\n",
       "#T_a55dc_row0_col4, #T_a55dc_row6_col5, #T_a55dc_row8_col5 {\n",
       "  background-color: #6788ee;\n",
       "  color: #f1f1f1;\n",
       "}\n",
       "#T_a55dc_row0_col5, #T_a55dc_row1_col6, #T_a55dc_row8_col4 {\n",
       "  background-color: #6384eb;\n",
       "  color: #f1f1f1;\n",
       "}\n",
       "#T_a55dc_row0_col6 {\n",
       "  background-color: #b3cdfb;\n",
       "  color: #000000;\n",
       "}\n",
       "#T_a55dc_row0_col7 {\n",
       "  background-color: #e3d9d3;\n",
       "  color: #000000;\n",
       "}\n",
       "#T_a55dc_row0_col8, #T_a55dc_row2_col1 {\n",
       "  background-color: #779af7;\n",
       "  color: #f1f1f1;\n",
       "}\n",
       "#T_a55dc_row1_col0 {\n",
       "  background-color: #506bda;\n",
       "  color: #f1f1f1;\n",
       "}\n",
       "#T_a55dc_row1_col2 {\n",
       "  background-color: #8caffe;\n",
       "  color: #000000;\n",
       "}\n",
       "#T_a55dc_row1_col3 {\n",
       "  background-color: #5d7ce6;\n",
       "  color: #f1f1f1;\n",
       "}\n",
       "#T_a55dc_row1_col4, #T_a55dc_row1_col7 {\n",
       "  background-color: #6687ed;\n",
       "  color: #f1f1f1;\n",
       "}\n",
       "#T_a55dc_row1_col5, #T_a55dc_row5_col6 {\n",
       "  background-color: #6485ec;\n",
       "  color: #f1f1f1;\n",
       "}\n",
       "#T_a55dc_row1_col8, #T_a55dc_row6_col3, #T_a55dc_row6_col4 {\n",
       "  background-color: #3d50c3;\n",
       "  color: #f1f1f1;\n",
       "}\n",
       "#T_a55dc_row2_col3 {\n",
       "  background-color: #6180e9;\n",
       "  color: #f1f1f1;\n",
       "}\n",
       "#T_a55dc_row2_col4 {\n",
       "  background-color: #5e7de7;\n",
       "  color: #f1f1f1;\n",
       "}\n",
       "#T_a55dc_row2_col5 {\n",
       "  background-color: #6a8bef;\n",
       "  color: #f1f1f1;\n",
       "}\n",
       "#T_a55dc_row2_col6, #T_a55dc_row2_col7 {\n",
       "  background-color: #5b7ae5;\n",
       "  color: #f1f1f1;\n",
       "}\n",
       "#T_a55dc_row2_col8, #T_a55dc_row3_col7 {\n",
       "  background-color: #4358cb;\n",
       "  color: #f1f1f1;\n",
       "}\n",
       "#T_a55dc_row3_col0, #T_a55dc_row5_col8 {\n",
       "  background-color: #3f53c6;\n",
       "  color: #f1f1f1;\n",
       "}\n",
       "#T_a55dc_row3_col2 {\n",
       "  background-color: #5470de;\n",
       "  color: #f1f1f1;\n",
       "}\n",
       "#T_a55dc_row3_col4 {\n",
       "  background-color: #c6d6f1;\n",
       "  color: #000000;\n",
       "}\n",
       "#T_a55dc_row3_col5 {\n",
       "  background-color: #7396f5;\n",
       "  color: #f1f1f1;\n",
       "}\n",
       "#T_a55dc_row3_col6 {\n",
       "  background-color: #445acc;\n",
       "  color: #f1f1f1;\n",
       "}\n",
       "#T_a55dc_row4_col0 {\n",
       "  background-color: #516ddb;\n",
       "  color: #f1f1f1;\n",
       "}\n",
       "#T_a55dc_row4_col2 {\n",
       "  background-color: #4961d2;\n",
       "  color: #f1f1f1;\n",
       "}\n",
       "#T_a55dc_row4_col3 {\n",
       "  background-color: #c0d4f5;\n",
       "  color: #000000;\n",
       "}\n",
       "#T_a55dc_row5_col0 {\n",
       "  background-color: #4e68d8;\n",
       "  color: #f1f1f1;\n",
       "}\n",
       "#T_a55dc_row5_col2, #T_a55dc_row8_col2 {\n",
       "  background-color: #5572df;\n",
       "  color: #f1f1f1;\n",
       "}\n",
       "#T_a55dc_row5_col3 {\n",
       "  background-color: #6c8ff1;\n",
       "  color: #f1f1f1;\n",
       "}\n",
       "#T_a55dc_row5_col7, #T_a55dc_row7_col5 {\n",
       "  background-color: #5f7fe8;\n",
       "  color: #f1f1f1;\n",
       "}\n",
       "#T_a55dc_row6_col0 {\n",
       "  background-color: #a5c3fe;\n",
       "  color: #000000;\n",
       "}\n",
       "#T_a55dc_row6_col2 {\n",
       "  background-color: #485fd1;\n",
       "  color: #f1f1f1;\n",
       "}\n",
       "#T_a55dc_row6_col7, #T_a55dc_row7_col6 {\n",
       "  background-color: #f4c5ad;\n",
       "  color: #000000;\n",
       "}\n",
       "#T_a55dc_row6_col8, #T_a55dc_row8_col3 {\n",
       "  background-color: #5977e3;\n",
       "  color: #f1f1f1;\n",
       "}\n",
       "#T_a55dc_row7_col0 {\n",
       "  background-color: #dadce0;\n",
       "  color: #000000;\n",
       "}\n",
       "#T_a55dc_row7_col2 {\n",
       "  background-color: #465ecf;\n",
       "  color: #f1f1f1;\n",
       "}\n",
       "#T_a55dc_row7_col8 {\n",
       "  background-color: #7699f6;\n",
       "  color: #f1f1f1;\n",
       "}\n",
       "#T_a55dc_row8_col0 {\n",
       "  background-color: #89acfd;\n",
       "  color: #000000;\n",
       "}\n",
       "#T_a55dc_row8_col6 {\n",
       "  background-color: #7ea1fa;\n",
       "  color: #f1f1f1;\n",
       "}\n",
       "#T_a55dc_row8_col7 {\n",
       "  background-color: #9abbff;\n",
       "  color: #000000;\n",
       "}\n",
       "</style>\n",
       "<table id=\"T_a55dc_\">\n",
       "  <thead>\n",
       "    <tr>\n",
       "      <th class=\"blank level0\" >&nbsp;</th>\n",
       "      <th class=\"col_heading level0 col0\" >but_num_business_unit</th>\n",
       "      <th class=\"col_heading level0 col1\" >dpt_num_department</th>\n",
       "      <th class=\"col_heading level0 col2\" >turnover</th>\n",
       "      <th class=\"col_heading level0 col3\" >but_postcode</th>\n",
       "      <th class=\"col_heading level0 col4\" >but_latitude</th>\n",
       "      <th class=\"col_heading level0 col5\" >but_longitude</th>\n",
       "      <th class=\"col_heading level0 col6\" >but_region_idr_region</th>\n",
       "      <th class=\"col_heading level0 col7\" >zod_idr_zone_dgr</th>\n",
       "      <th class=\"col_heading level0 col8\" >timestamp</th>\n",
       "    </tr>\n",
       "  </thead>\n",
       "  <tbody>\n",
       "    <tr>\n",
       "      <th id=\"T_a55dc_level0_row0\" class=\"row_heading level0 row0\" >but_num_business_unit</th>\n",
       "      <td id=\"T_a55dc_row0_col0\" class=\"data row0 col0\" >1.000000</td>\n",
       "      <td id=\"T_a55dc_row0_col1\" class=\"data row0 col1\" >0.003640</td>\n",
       "      <td id=\"T_a55dc_row0_col2\" class=\"data row0 col2\" >-0.075704</td>\n",
       "      <td id=\"T_a55dc_row0_col3\" class=\"data row0 col3\" >-0.055515</td>\n",
       "      <td id=\"T_a55dc_row0_col4\" class=\"data row0 col4\" >0.006475</td>\n",
       "      <td id=\"T_a55dc_row0_col5\" class=\"data row0 col5\" >-0.005625</td>\n",
       "      <td id=\"T_a55dc_row0_col6\" class=\"data row0 col6\" >0.268212</td>\n",
       "      <td id=\"T_a55dc_row0_col7\" class=\"data row0 col7\" >0.450556</td>\n",
       "      <td id=\"T_a55dc_row0_col8\" class=\"data row0 col8\" >0.181088</td>\n",
       "    </tr>\n",
       "    <tr>\n",
       "      <th id=\"T_a55dc_level0_row1\" class=\"row_heading level0 row1\" >dpt_num_department</th>\n",
       "      <td id=\"T_a55dc_row1_col0\" class=\"data row1 col0\" >0.003640</td>\n",
       "      <td id=\"T_a55dc_row1_col1\" class=\"data row1 col1\" >1.000000</td>\n",
       "      <td id=\"T_a55dc_row1_col2\" class=\"data row1 col2\" >0.189783</td>\n",
       "      <td id=\"T_a55dc_row1_col3\" class=\"data row1 col3\" >0.002094</td>\n",
       "      <td id=\"T_a55dc_row1_col4\" class=\"data row1 col4\" >0.003916</td>\n",
       "      <td id=\"T_a55dc_row1_col5\" class=\"data row1 col5\" >0.001726</td>\n",
       "      <td id=\"T_a55dc_row1_col6\" class=\"data row1 col6\" >0.001818</td>\n",
       "      <td id=\"T_a55dc_row1_col7\" class=\"data row1 col7\" >0.003893</td>\n",
       "      <td id=\"T_a55dc_row1_col8\" class=\"data row1 col8\" >-0.001067</td>\n",
       "    </tr>\n",
       "    <tr>\n",
       "      <th id=\"T_a55dc_level0_row2\" class=\"row_heading level0 row2\" >turnover</th>\n",
       "      <td id=\"T_a55dc_row2_col0\" class=\"data row2 col0\" >-0.075704</td>\n",
       "      <td id=\"T_a55dc_row2_col1\" class=\"data row2 col1\" >0.189783</td>\n",
       "      <td id=\"T_a55dc_row2_col2\" class=\"data row2 col2\" >1.000000</td>\n",
       "      <td id=\"T_a55dc_row2_col3\" class=\"data row2 col3\" >0.014564</td>\n",
       "      <td id=\"T_a55dc_row2_col4\" class=\"data row2 col4\" >-0.021729</td>\n",
       "      <td id=\"T_a55dc_row2_col5\" class=\"data row2 col5\" >0.018554</td>\n",
       "      <td id=\"T_a55dc_row2_col6\" class=\"data row2 col6\" >-0.026189</td>\n",
       "      <td id=\"T_a55dc_row2_col7\" class=\"data row2 col7\" >-0.033209</td>\n",
       "      <td id=\"T_a55dc_row2_col8\" class=\"data row2 col8\" >0.017453</td>\n",
       "    </tr>\n",
       "    <tr>\n",
       "      <th id=\"T_a55dc_level0_row3\" class=\"row_heading level0 row3\" >but_postcode</th>\n",
       "      <td id=\"T_a55dc_row3_col0\" class=\"data row3 col0\" >-0.055515</td>\n",
       "      <td id=\"T_a55dc_row3_col1\" class=\"data row3 col1\" >0.002094</td>\n",
       "      <td id=\"T_a55dc_row3_col2\" class=\"data row3 col2\" >0.014564</td>\n",
       "      <td id=\"T_a55dc_row3_col3\" class=\"data row3 col3\" >1.000000</td>\n",
       "      <td id=\"T_a55dc_row3_col4\" class=\"data row3 col4\" >0.326530</td>\n",
       "      <td id=\"T_a55dc_row3_col5\" class=\"data row3 col5\" >0.052717</td>\n",
       "      <td id=\"T_a55dc_row3_col6\" class=\"data row3 col6\" >-0.111696</td>\n",
       "      <td id=\"T_a55dc_row3_col7\" class=\"data row3 col7\" >-0.124648</td>\n",
       "      <td id=\"T_a55dc_row3_col8\" class=\"data row3 col8\" >-0.010932</td>\n",
       "    </tr>\n",
       "    <tr>\n",
       "      <th id=\"T_a55dc_level0_row4\" class=\"row_heading level0 row4\" >but_latitude</th>\n",
       "      <td id=\"T_a55dc_row4_col0\" class=\"data row4 col0\" >0.006475</td>\n",
       "      <td id=\"T_a55dc_row4_col1\" class=\"data row4 col1\" >0.003916</td>\n",
       "      <td id=\"T_a55dc_row4_col2\" class=\"data row4 col2\" >-0.021729</td>\n",
       "      <td id=\"T_a55dc_row4_col3\" class=\"data row4 col3\" >0.326530</td>\n",
       "      <td id=\"T_a55dc_row4_col4\" class=\"data row4 col4\" >1.000000</td>\n",
       "      <td id=\"T_a55dc_row4_col5\" class=\"data row4 col5\" >-0.154520</td>\n",
       "      <td id=\"T_a55dc_row4_col6\" class=\"data row4 col6\" >-0.147579</td>\n",
       "      <td id=\"T_a55dc_row4_col7\" class=\"data row4 col7\" >-0.157318</td>\n",
       "      <td id=\"T_a55dc_row4_col8\" class=\"data row4 col8\" >-0.004795</td>\n",
       "    </tr>\n",
       "    <tr>\n",
       "      <th id=\"T_a55dc_level0_row5\" class=\"row_heading level0 row5\" >but_longitude</th>\n",
       "      <td id=\"T_a55dc_row5_col0\" class=\"data row5 col0\" >-0.005625</td>\n",
       "      <td id=\"T_a55dc_row5_col1\" class=\"data row5 col1\" >0.001726</td>\n",
       "      <td id=\"T_a55dc_row5_col2\" class=\"data row5 col2\" >0.018554</td>\n",
       "      <td id=\"T_a55dc_row5_col3\" class=\"data row5 col3\" >0.052717</td>\n",
       "      <td id=\"T_a55dc_row5_col4\" class=\"data row5 col4\" >-0.154520</td>\n",
       "      <td id=\"T_a55dc_row5_col5\" class=\"data row5 col5\" >1.000000</td>\n",
       "      <td id=\"T_a55dc_row5_col6\" class=\"data row5 col6\" >0.009025</td>\n",
       "      <td id=\"T_a55dc_row5_col7\" class=\"data row5 col7\" >-0.019024</td>\n",
       "      <td id=\"T_a55dc_row5_col8\" class=\"data row5 col8\" >0.008379</td>\n",
       "    </tr>\n",
       "    <tr>\n",
       "      <th id=\"T_a55dc_level0_row6\" class=\"row_heading level0 row6\" >but_region_idr_region</th>\n",
       "      <td id=\"T_a55dc_row6_col0\" class=\"data row6 col0\" >0.268212</td>\n",
       "      <td id=\"T_a55dc_row6_col1\" class=\"data row6 col1\" >0.001818</td>\n",
       "      <td id=\"T_a55dc_row6_col2\" class=\"data row6 col2\" >-0.026189</td>\n",
       "      <td id=\"T_a55dc_row6_col3\" class=\"data row6 col3\" >-0.111696</td>\n",
       "      <td id=\"T_a55dc_row6_col4\" class=\"data row6 col4\" >-0.147579</td>\n",
       "      <td id=\"T_a55dc_row6_col5\" class=\"data row6 col5\" >0.009025</td>\n",
       "      <td id=\"T_a55dc_row6_col6\" class=\"data row6 col6\" >1.000000</td>\n",
       "      <td id=\"T_a55dc_row6_col7\" class=\"data row6 col7\" >0.565376</td>\n",
       "      <td id=\"T_a55dc_row6_col8\" class=\"data row6 col8\" >0.090734</td>\n",
       "    </tr>\n",
       "    <tr>\n",
       "      <th id=\"T_a55dc_level0_row7\" class=\"row_heading level0 row7\" >zod_idr_zone_dgr</th>\n",
       "      <td id=\"T_a55dc_row7_col0\" class=\"data row7 col0\" >0.450556</td>\n",
       "      <td id=\"T_a55dc_row7_col1\" class=\"data row7 col1\" >0.003893</td>\n",
       "      <td id=\"T_a55dc_row7_col2\" class=\"data row7 col2\" >-0.033209</td>\n",
       "      <td id=\"T_a55dc_row7_col3\" class=\"data row7 col3\" >-0.124648</td>\n",
       "      <td id=\"T_a55dc_row7_col4\" class=\"data row7 col4\" >-0.157318</td>\n",
       "      <td id=\"T_a55dc_row7_col5\" class=\"data row7 col5\" >-0.019024</td>\n",
       "      <td id=\"T_a55dc_row7_col6\" class=\"data row7 col6\" >0.565376</td>\n",
       "      <td id=\"T_a55dc_row7_col7\" class=\"data row7 col7\" >1.000000</td>\n",
       "      <td id=\"T_a55dc_row7_col8\" class=\"data row7 col8\" >0.176809</td>\n",
       "    </tr>\n",
       "    <tr>\n",
       "      <th id=\"T_a55dc_level0_row8\" class=\"row_heading level0 row8\" >timestamp</th>\n",
       "      <td id=\"T_a55dc_row8_col0\" class=\"data row8 col0\" >0.181088</td>\n",
       "      <td id=\"T_a55dc_row8_col1\" class=\"data row8 col1\" >-0.001067</td>\n",
       "      <td id=\"T_a55dc_row8_col2\" class=\"data row8 col2\" >0.017453</td>\n",
       "      <td id=\"T_a55dc_row8_col3\" class=\"data row8 col3\" >-0.010932</td>\n",
       "      <td id=\"T_a55dc_row8_col4\" class=\"data row8 col4\" >-0.004795</td>\n",
       "      <td id=\"T_a55dc_row8_col5\" class=\"data row8 col5\" >0.008379</td>\n",
       "      <td id=\"T_a55dc_row8_col6\" class=\"data row8 col6\" >0.090734</td>\n",
       "      <td id=\"T_a55dc_row8_col7\" class=\"data row8 col7\" >0.176809</td>\n",
       "      <td id=\"T_a55dc_row8_col8\" class=\"data row8 col8\" >1.000000</td>\n",
       "    </tr>\n",
       "  </tbody>\n",
       "</table>\n"
      ],
      "text/plain": [
       "<pandas.io.formats.style.Styler at 0x7f72dad0fe20>"
      ]
     },
     "execution_count": 23,
     "metadata": {},
     "output_type": "execute_result"
    }
   ],
   "source": [
    "corr = df.assign(timestamp=df['date_time'].values.tolist()).corr()\n",
    "corr.style.background_gradient(cmap='coolwarm')"
   ]
  },
  {
   "cell_type": "markdown",
   "id": "3de665d0",
   "metadata": {},
   "source": [
    "### Departement sales per season"
   ]
  },
  {
   "cell_type": "code",
   "execution_count": 24,
   "id": "9f1d8be6",
   "metadata": {},
   "outputs": [],
   "source": [
    "season_month = {\n",
    "    12:'Winter', 1:'Winter', 2:'Winter',\n",
    "    3:'Spring', 4:'Spring', 5:'Spring',\n",
    "    6:'Summer', 7:'Summer', 8:'Summer',\n",
    "    9:'Autumn', 10:'Autumn', 11:'Autumn'\n",
    "}\n",
    "df['season'] = df['date_time'].map(lambda x : season_month[x.month])"
   ]
  },
  {
   "cell_type": "code",
   "execution_count": 25,
   "id": "da7572e6",
   "metadata": {},
   "outputs": [
    {
     "data": {
      "text/plain": [
       "<AxesSubplot:xlabel='dpt_num_department', ylabel='turnover'>"
      ]
     },
     "execution_count": 25,
     "metadata": {},
     "output_type": "execute_result"
    },
    {
     "data": {
      "image/png": "[encoded data removed]",
      "text/plain": [
       "<Figure size 1500x800 with 1 Axes>"
      ]
     },
     "metadata": {},
     "output_type": "display_data"
    }
   ],
   "source": [
    "plt.figure(figsize=(15,8))\n",
    "sns.barplot(\n",
    "    data=df, estimator=np.mean,\n",
    "    x=\"dpt_num_department\", y=\"turnover\", hue=\"season\"\n",
    ")"
   ]
  }
 ],
 "metadata": {
  "kernelspec": {
   "display_name": "Python 3 (ipykernel)",
   "language": "python",
   "name": "python3"
  },
  "language_info": {
   "codemirror_mode": {
    "name": "ipython",
    "version": 3
   },
   "file_extension": ".py",
   "mimetype": "text/x-python",
   "name": "python",
   "nbconvert_exporter": "python",
   "pygments_lexer": "ipython3",
   "version": "3.9.0"
  }
 },
 "nbformat": 4,
 "nbformat_minor": 5
}
